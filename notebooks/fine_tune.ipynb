{
  "cells": [
    {
      "cell_type": "code",
      "execution_count": null,
      "metadata": {
        "colab": {
          "base_uri": "https://localhost:8080/"
        },
        "id": "cyWOPa5752be",
        "outputId": "f3deffa8-7596-4694-96f2-3303ddc2cad8"
      },
      "outputs": [],
      "source": [
        "!git clone https://github.com/hublot-io/doner.git"
      ]
    },
    {
      "cell_type": "code",
      "execution_count": null,
      "metadata": {
        "colab": {
          "base_uri": "https://localhost:8080/"
        },
        "id": "SeATNEqC6mYK",
        "outputId": "575aaa14-449d-42f7-ecfe-35528afc2d36"
      },
      "outputs": [],
      "source": [
        "!cd doner; pip install ."
      ]
    },
    {
      "cell_type": "code",
      "execution_count": null,
      "metadata": {},
      "outputs": [],
      "source": [
        "%load_ext tensorboard"
      ]
    },
    {
      "cell_type": "code",
      "execution_count": null,
      "metadata": {},
      "outputs": [],
      "source": [
        "%tensorboard --logdir results"
      ]
    },
    {
      "attachments": {},
      "cell_type": "markdown",
      "metadata": {},
      "source": [
        "Get the huggingface token so we can download our dataset"
      ]
    },
    {
      "cell_type": "code",
      "execution_count": null,
      "metadata": {},
      "outputs": [],
      "source": [
        "!huggingface-cli login"
      ]
    },
    {
      "cell_type": "code",
      "execution_count": null,
      "metadata": {
        "colab": {
          "base_uri": "https://localhost:8080/"
        },
        "id": "x50Ja8UY809K",
        "outputId": "a2b5edb6-5638-4d6e-c94c-74cc88707474"
      },
      "outputs": [],
      "source": [
        "!cd doner && python train.py --config config/train_ner.yaml \\\n",
        "                --pretrained_model_name_or_path \"naver-clova-ix/doner-base\" \\\n",
        "                --dataset_name_or_paths '[\"hublot/fish-label\"]' \\\n",
        "                --exp_version \"test_experiment\""
      ]
    },
    {
      "cell_type": "code",
      "execution_count": null,
      "metadata": {
        "id": "MJ0Q-pQKiPwk"
      },
      "outputs": [],
      "source": [
        "from google.colab import drive"
      ]
    },
    {
      "cell_type": "code",
      "execution_count": null,
      "metadata": {
        "colab": {
          "base_uri": "https://localhost:8080/"
        },
        "id": "XtmWkG4NiQIA",
        "outputId": "c011a32b-4145-4c12-a0cb-31cfe4d55bba"
      },
      "outputs": [],
      "source": [
        "drive.mount('drive')"
      ]
    },
    {
      "cell_type": "code",
      "execution_count": null,
      "metadata": {
        "colab": {
          "base_uri": "https://localhost:8080/"
        },
        "id": "MIXrboCDiZ-B",
        "outputId": "4140051a-083a-4dd4-aad8-0944d5dad545"
      },
      "outputs": [],
      "source": [
        "!ls drive/'My Drive'"
      ]
    }
  ],
  "metadata": {
    "accelerator": "GPU",
    "colab": {
      "provenance": []
    },
    "gpuClass": "standard",
    "kernelspec": {
      "display_name": "ocr_v2",
      "language": "python",
      "name": "python3"
    },
    "language_info": {
      "name": "python",
      "version": "3.9.10 | packaged by conda-forge | (main, Feb  1 2022, 21:24:37) \n[GCC 9.4.0]"
    },
    "vscode": {
      "interpreter": {
        "hash": "bd58e736a68d37474bb22d89b23e7d25081c2413b61b49d3fe1ad5939714c434"
      }
    }
  },
  "nbformat": 4,
  "nbformat_minor": 0
}
