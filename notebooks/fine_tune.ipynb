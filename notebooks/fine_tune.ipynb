{
  "cells": [
    {
      "cell_type": "code",
      "execution_count": null,
      "metadata": {
        "colab": {
          "base_uri": "https://localhost:8080/"
        },
        "id": "cyWOPa5752be",
        "outputId": "f3deffa8-7596-4694-96f2-3303ddc2cad8"
      },
      "outputs": [],
      "source": [
        "!git clone https://github.com/clovaai/doner.git"
      ]
    },
    {
      "cell_type": "code",
      "execution_count": null,
      "metadata": {
        "colab": {
          "base_uri": "https://localhost:8080/"
        },
        "id": "SeATNEqC6mYK",
        "outputId": "575aaa14-449d-42f7-ecfe-35528afc2d36"
      },
      "outputs": [],
      "source": [
        "!cd doner; pip install ."
      ]
    },
    {
      "cell_type": "code",
      "execution_count": null,
      "metadata": {
        "id": "08d1TAkxOsNB"
      },
      "outputs": [],
      "source": [
        "!cd doner && rm -rf data/OCR"
      ]
    },
    {
      "cell_type": "code",
      "execution_count": null,
      "metadata": {
        "id": "K_IVzLpO-XMT"
      },
      "outputs": [],
      "source": [
        "!cd doner && mkdir -p data/OCR/train && mkdir -p data/OCR/test && mkdir -p data/OCR/validation"
      ]
    },
    {
      "cell_type": "code",
      "execution_count": null,
      "metadata": {
        "colab": {
          "base_uri": "https://localhost:8080/"
        },
        "id": "ATGLQD7P7tSF",
        "outputId": "0aaac282-d935-489e-e268-7cd555cbe2de"
      },
      "outputs": [],
      "source": [
        "!cd doner && python scripts/generate.py -s train -n 100 -t ner"
      ]
    },
    {
      "cell_type": "code",
      "execution_count": null,
      "metadata": {
        "colab": {
          "base_uri": "https://localhost:8080/"
        },
        "id": "mEPJ5JI28rQD",
        "outputId": "19337ed6-489e-4f12-ece5-13fc86dddd02"
      },
      "outputs": [],
      "source": [
        "!cd doner && python scripts/generate.py -s test -n 40 -t ner"
      ]
    },
    {
      "cell_type": "code",
      "execution_count": null,
      "metadata": {
        "colab": {
          "base_uri": "https://localhost:8080/"
        },
        "id": "4wLZzeUV8vWR",
        "outputId": "932f9795-1b43-4da5-cd61-cc259c320510"
      },
      "outputs": [],
      "source": [
        "!cd doner && python scripts/generate.py -s validation -n 40 -t ner"
      ]
    },
    {
      "attachments": {},
      "cell_type": "markdown",
      "metadata": {},
      "source": [
        "If running with a TPU:"
      ]
    },
    {
      "cell_type": "code",
      "execution_count": null,
      "metadata": {},
      "outputs": [],
      "source": [
        "!pip install cloud-tpu-client==0.10 torch==1.13.0 https://storage.googleapis.com/tpu-pytorch/wheels/colab/torch_xla-1.13-cp38-cp38-linux_x86_64.whl"
      ]
    },
    {
      "cell_type": "code",
      "execution_count": null,
      "metadata": {},
      "outputs": [],
      "source": [
        "%load_ext tensorboard"
      ]
    },
    {
      "cell_type": "code",
      "execution_count": null,
      "metadata": {},
      "outputs": [],
      "source": [
        "%tensorboard --logdir results"
      ]
    },
    {
      "cell_type": "code",
      "execution_count": null,
      "metadata": {
        "colab": {
          "base_uri": "https://localhost:8080/"
        },
        "id": "x50Ja8UY809K",
        "outputId": "a2b5edb6-5638-4d6e-c94c-74cc88707474"
      },
      "outputs": [],
      "source": [
        "!cd doner && python train.py --config config/train_cord.yaml \\\n",
        "                --pretrained_model_name_or_path \"naver-clova-ix/doner-base\" \\\n",
        "                --dataset_name_or_paths '[\"data/OCR\"]' \\\n",
        "                --exp_version \"test_experiment\""
      ]
    },
    {
      "cell_type": "code",
      "execution_count": null,
      "metadata": {
        "id": "MJ0Q-pQKiPwk"
      },
      "outputs": [],
      "source": [
        "from google.colab import drive"
      ]
    },
    {
      "cell_type": "code",
      "execution_count": null,
      "metadata": {
        "colab": {
          "base_uri": "https://localhost:8080/"
        },
        "id": "XtmWkG4NiQIA",
        "outputId": "c011a32b-4145-4c12-a0cb-31cfe4d55bba"
      },
      "outputs": [],
      "source": [
        "drive.mount('drive')"
      ]
    },
    {
      "cell_type": "code",
      "execution_count": null,
      "metadata": {
        "colab": {
          "base_uri": "https://localhost:8080/"
        },
        "id": "MIXrboCDiZ-B",
        "outputId": "4140051a-083a-4dd4-aad8-0944d5dad545"
      },
      "outputs": [],
      "source": [
        "!ls drive/'My Drive'"
      ]
    },
    {
      "cell_type": "code",
      "execution_count": null,
      "metadata": {
        "id": "gXD9d3Ati3T7"
      },
      "outputs": [],
      "source": [
        "!cp -r /content/doner/result/train_cord/test_experiment/ /content/drive/MyDrive/models"
      ]
    },
    {
      "cell_type": "code",
      "execution_count": null,
      "metadata": {
        "id": "ZsKnxGYJjbSl"
      },
      "outputs": [],
      "source": []
    }
  ],
  "metadata": {
    "accelerator": "GPU",
    "colab": {
      "provenance": []
    },
    "gpuClass": "standard",
    "kernelspec": {
      "display_name": "ocr_v2",
      "language": "python",
      "name": "python3"
    },
    "language_info": {
      "name": "python",
      "version": "3.9.10 | packaged by conda-forge | (main, Feb  1 2022, 21:24:37) \n[GCC 9.4.0]"
    },
    "vscode": {
      "interpreter": {
        "hash": "bd58e736a68d37474bb22d89b23e7d25081c2413b61b49d3fe1ad5939714c434"
      }
    }
  },
  "nbformat": 4,
  "nbformat_minor": 0
}
